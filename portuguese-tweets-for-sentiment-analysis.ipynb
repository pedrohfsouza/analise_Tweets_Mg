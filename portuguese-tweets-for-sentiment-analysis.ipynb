{
 "cells": [
  {
   "cell_type": "code",
   "execution_count": 1,
   "metadata": {},
   "outputs": [],
   "source": [
    "import nltk\n",
    "import re\n",
    "import pandas as pd\n",
    "from sklearn.feature_extraction.text import CountVectorizer\n",
    "from sklearn.naive_bayes import MultinomialNB\n",
    "from sklearn import metrics\n",
    "from sklearn.model_selection import cross_val_predict\n"
   ]
  },
  {
   "cell_type": "code",
   "execution_count": 2,
   "metadata": {},
   "outputs": [
    {
     "data": {
      "text/plain": [
       "id            785814\n",
       "tweet_text    785814\n",
       "tweet_date    785814\n",
       "sentiment     785814\n",
       "query_used    785814\n",
       "dtype: int64"
      ]
     },
     "execution_count": 2,
     "metadata": {},
     "output_type": "execute_result"
    }
   ],
   "source": [
    "dataset = pd.read_csv(r'C:/Users/Pedro Henrique/PGC/input/NoThemeTweets.csv',encoding='utf-8')\n",
    "dataset.count()"
   ]
  },
  {
   "cell_type": "code",
   "execution_count": 3,
   "metadata": {},
   "outputs": [
    {
     "data": {
      "text/plain": [
       "id            263107\n",
       "tweet_text    263107\n",
       "tweet_date    263107\n",
       "sentiment     263107\n",
       "query_used    263107\n",
       "dtype: int64"
      ]
     },
     "execution_count": 3,
     "metadata": {},
     "output_type": "execute_result"
    }
   ],
   "source": [
    "# Os classificados como positivo\n",
    "dataset[dataset.sentiment == 'Positivo'].count()"
   ]
  },
  {
   "cell_type": "code",
   "execution_count": 5,
   "metadata": {},
   "outputs": [
    {
     "data": {
      "text/plain": [
       "id            522707\n",
       "tweet_text    522707\n",
       "tweet_date    522707\n",
       "sentiment     522707\n",
       "query_used    522707\n",
       "dtype: int64"
      ]
     },
     "execution_count": 5,
     "metadata": {},
     "output_type": "execute_result"
    }
   ],
   "source": [
    "#Os classificados como negativo\n",
    "dataset[dataset.sentiment == 'Negativo'].count()"
   ]
  },
  {
   "cell_type": "code",
   "execution_count": 6,
   "metadata": {},
   "outputs": [
    {
     "data": {
      "text/html": [
       "<div>\n",
       "<style scoped>\n",
       "    .dataframe tbody tr th:only-of-type {\n",
       "        vertical-align: middle;\n",
       "    }\n",
       "\n",
       "    .dataframe tbody tr th {\n",
       "        vertical-align: top;\n",
       "    }\n",
       "\n",
       "    .dataframe thead th {\n",
       "        text-align: right;\n",
       "    }\n",
       "</style>\n",
       "<table border=\"1\" class=\"dataframe\">\n",
       "  <thead>\n",
       "    <tr style=\"text-align: right;\">\n",
       "      <th></th>\n",
       "      <th>id</th>\n",
       "      <th>tweet_text</th>\n",
       "      <th>tweet_date</th>\n",
       "      <th>sentiment</th>\n",
       "      <th>query_used</th>\n",
       "    </tr>\n",
       "  </thead>\n",
       "  <tbody>\n",
       "    <tr>\n",
       "      <th>0</th>\n",
       "      <td>1031761728445530112</td>\n",
       "      <td>@Tixaa23 14 para eu ir :)</td>\n",
       "      <td>Tue Aug 21 04:35:39 +0000 2018</td>\n",
       "      <td>Positivo</td>\n",
       "      <td>:)</td>\n",
       "    </tr>\n",
       "    <tr>\n",
       "      <th>1</th>\n",
       "      <td>1031761040462278656</td>\n",
       "      <td>@drexalvarez O meu like eu já dei na época :)</td>\n",
       "      <td>Tue Aug 21 04:32:55 +0000 2018</td>\n",
       "      <td>Positivo</td>\n",
       "      <td>:)</td>\n",
       "    </tr>\n",
       "    <tr>\n",
       "      <th>2</th>\n",
       "      <td>1031760962372689920</td>\n",
       "      <td>Eu só queria conseguir comer alguma coisa pra ...</td>\n",
       "      <td>Tue Aug 21 04:32:37 +0000 2018</td>\n",
       "      <td>Positivo</td>\n",
       "      <td>:)</td>\n",
       "    </tr>\n",
       "    <tr>\n",
       "      <th>3</th>\n",
       "      <td>1031760948250456066</td>\n",
       "      <td>:D que lindo dia !</td>\n",
       "      <td>Tue Aug 21 04:32:33 +0000 2018</td>\n",
       "      <td>Positivo</td>\n",
       "      <td>:)</td>\n",
       "    </tr>\n",
       "    <tr>\n",
       "      <th>4</th>\n",
       "      <td>1031760895985246208</td>\n",
       "      <td>@Primo_Resmungao Pq da pr jeito!!é uma \"oferta...</td>\n",
       "      <td>Tue Aug 21 04:32:21 +0000 2018</td>\n",
       "      <td>Positivo</td>\n",
       "      <td>:)</td>\n",
       "    </tr>\n",
       "  </tbody>\n",
       "</table>\n",
       "</div>"
      ],
      "text/plain": [
       "                    id                                         tweet_text  \\\n",
       "0  1031761728445530112                          @Tixaa23 14 para eu ir :)   \n",
       "1  1031761040462278656      @drexalvarez O meu like eu já dei na época :)   \n",
       "2  1031760962372689920  Eu só queria conseguir comer alguma coisa pra ...   \n",
       "3  1031760948250456066                                 :D que lindo dia !   \n",
       "4  1031760895985246208  @Primo_Resmungao Pq da pr jeito!!é uma \"oferta...   \n",
       "\n",
       "                       tweet_date sentiment query_used  \n",
       "0  Tue Aug 21 04:35:39 +0000 2018  Positivo         :)  \n",
       "1  Tue Aug 21 04:32:55 +0000 2018  Positivo         :)  \n",
       "2  Tue Aug 21 04:32:37 +0000 2018  Positivo         :)  \n",
       "3  Tue Aug 21 04:32:33 +0000 2018  Positivo         :)  \n",
       "4  Tue Aug 21 04:32:21 +0000 2018  Positivo         :)  "
      ]
     },
     "execution_count": 6,
     "metadata": {},
     "output_type": "execute_result"
    }
   ],
   "source": [
    "dataset.head()"
   ]
  },
  {
   "cell_type": "code",
   "execution_count": 7,
   "metadata": {},
   "outputs": [
    {
     "data": {
      "text/plain": [
       "array(['@Tixaa23 14 para eu ir :)',\n",
       "       '@drexalvarez O meu like eu já dei na época :)',\n",
       "       'Eu só queria conseguir comer alguma coisa pra poder dormir :)',\n",
       "       ...,\n",
       "       'Opa tava na merda mm e fiquei logo mais feliz só por causa daquilo :)',\n",
       "       '@andrebraga2806 Foi como a tua lealdade :)',\n",
       "       'Feliz dia das crianças!! De hoje e de ontem... :) https://t.co/m7dAEUEM3q'],\n",
       "      dtype=object)"
      ]
     },
     "execution_count": 7,
     "metadata": {},
     "output_type": "execute_result"
    }
   ],
   "source": [
    "tweets = dataset[\"tweet_text\"].values\n",
    "tweets"
   ]
  },
  {
   "cell_type": "code",
   "execution_count": 9,
   "metadata": {},
   "outputs": [
    {
     "data": {
      "text/plain": [
       "array(['Positivo', 'Positivo', 'Positivo', ..., 'Positivo', 'Positivo',\n",
       "       'Positivo'], dtype=object)"
      ]
     },
     "execution_count": 9,
     "metadata": {},
     "output_type": "execute_result"
    }
   ],
   "source": [
    "classes = dataset[\"sentiment\"].values\n",
    "classes"
   ]
  },
  {
   "cell_type": "markdown",
   "metadata": {},
   "source": [
    "Pré-Processamento"
   ]
  },
  {
   "cell_type": "code",
   "execution_count": 18,
   "metadata": {},
   "outputs": [
    {
     "data": {
      "text/html": [
       "<div>\n",
       "<style scoped>\n",
       "    .dataframe tbody tr th:only-of-type {\n",
       "        vertical-align: middle;\n",
       "    }\n",
       "\n",
       "    .dataframe tbody tr th {\n",
       "        vertical-align: top;\n",
       "    }\n",
       "\n",
       "    .dataframe thead th {\n",
       "        text-align: right;\n",
       "    }\n",
       "</style>\n",
       "<table border=\"1\" class=\"dataframe\">\n",
       "  <thead>\n",
       "    <tr style=\"text-align: right;\">\n",
       "      <th></th>\n",
       "      <th>tweet_text</th>\n",
       "      <th>tweet_text_preprocessed</th>\n",
       "    </tr>\n",
       "  </thead>\n",
       "  <tbody>\n",
       "    <tr>\n",
       "      <th>0</th>\n",
       "      <td>@Tixaa23 14 para eu ir :)</td>\n",
       "      <td>14 para eu ir</td>\n",
       "    </tr>\n",
       "    <tr>\n",
       "      <th>1</th>\n",
       "      <td>@drexalvarez O meu like eu já dei na época :)</td>\n",
       "      <td>o meu like eu já dei na época</td>\n",
       "    </tr>\n",
       "    <tr>\n",
       "      <th>2</th>\n",
       "      <td>Eu só queria conseguir comer alguma coisa pra ...</td>\n",
       "      <td>eu só queria conseguir comer alguma coisa pra ...</td>\n",
       "    </tr>\n",
       "    <tr>\n",
       "      <th>3</th>\n",
       "      <td>:D que lindo dia !</td>\n",
       "      <td>que lindo dia !</td>\n",
       "    </tr>\n",
       "    <tr>\n",
       "      <th>4</th>\n",
       "      <td>@Primo_Resmungao Pq da pr jeito!!é uma \"oferta...</td>\n",
       "      <td>pq da pr jeito!!é uma \" oferta \" , ha q aprove...</td>\n",
       "    </tr>\n",
       "  </tbody>\n",
       "</table>\n",
       "</div>"
      ],
      "text/plain": [
       "                                          tweet_text  \\\n",
       "0                          @Tixaa23 14 para eu ir :)   \n",
       "1      @drexalvarez O meu like eu já dei na época :)   \n",
       "2  Eu só queria conseguir comer alguma coisa pra ...   \n",
       "3                                 :D que lindo dia !   \n",
       "4  @Primo_Resmungao Pq da pr jeito!!é uma \"oferta...   \n",
       "\n",
       "                             tweet_text_preprocessed  \n",
       "0                                      14 para eu ir  \n",
       "1                      o meu like eu já dei na época  \n",
       "2  eu só queria conseguir comer alguma coisa pra ...  \n",
       "3                                    que lindo dia !  \n",
       "4  pq da pr jeito!!é uma \" oferta \" , ha q aprove...  "
      ]
     },
     "execution_count": 18,
     "metadata": {},
     "output_type": "execute_result"
    }
   ],
   "source": [
    "import spacy\n",
    "import re\n",
    "\n",
    "# Carregar o modelo de português\n",
    "nlp = spacy.load('pt_core_news_sm')\n",
    "\n",
    "# Função para remover emojis e emoticons\n",
    "def remove_emoji_emoticon(text):\n",
    "    # Remover emojis usando regex\n",
    "    emoji_pattern = re.compile(\"[\"\n",
    "                           u\"\\U0001F600-\\U0001F64F\"  # Emoticons\n",
    "                           u\"\\U0001F300-\\U0001F5FF\"  # Símbolos e pictogramas diversos\n",
    "                           u\"\\U0001F680-\\U0001F6FF\"  # Transportes e símbolos de mapa\n",
    "                           u\"\\U0001F1E0-\\U0001F1FF\"  # Bandeiras\n",
    "                           \"]+\", flags=re.UNICODE)\n",
    "\n",
    "    # Remover emoticons comuns (como :), :D, :(, =), =D, =(, etc)\n",
    "    emoticon_pattern = re.compile(r'(:\\)|:\\(|:D|:P|D:|:-\\)|:-\\(|:-D|:-P|D:-|:\\'\\(|;\\)|:-\\]|:-\\[|:o|:-o|:O|:-O|'\n",
    "                                  r'=\\)|=\\(|=D|:-\\)|:-\\(|:-D|:-P|=\\-\\)|=\\-\\(|=\\-\\[|=\\-\\]|=\\-\\])')\n",
    "\n",
    "    # Remover ambos\n",
    "    text = emoji_pattern.sub(r'', text)\n",
    "    text = emoticon_pattern.sub(r'', text)\n",
    "    \n",
    "    return text\n",
    "\n",
    "# Função para pré-processar tweets com spaCy\n",
    "def preprocess_tweet_spacy(tweet):\n",
    "    doc = nlp(tweet)\n",
    "    tokens = []\n",
    "    for token in doc:\n",
    "        # Remover menções e links\n",
    "        if token.text.startswith('@') or token.like_url:\n",
    "            continue\n",
    "        tokens.append(token.text)\n",
    "    cleaned_tweet = ' '.join(tokens)\n",
    "    # Remover emojis, emoticons e converter para minúsculas\n",
    "    cleaned_tweet = remove_emoji_emoticon(cleaned_tweet).lower()\n",
    "    return cleaned_tweet.strip()\n",
    "\n",
    "# Aplicar o pré-processamento a todos os tweets\n",
    "tweets_preprocessed = [preprocess_tweet_spacy(tweet) for tweet in dataset['tweet_text']]\n",
    "\n",
    "# Adicionar a coluna de tweets pré-processados ao DataFrame\n",
    "dataset['tweet_text_preprocessed'] = tweets_preprocessed\n",
    "\n",
    "# Visualizando as primeiras linhas do DataFrame com a nova coluna\n",
    "dataset[['tweet_text', 'tweet_text_preprocessed']].head()"
   ]
  }
 ],
 "metadata": {
  "kernelspec": {
   "display_name": "Python 3",
   "language": "python",
   "name": "python3"
  },
  "language_info": {
   "codemirror_mode": {
    "name": "ipython",
    "version": 3
   },
   "file_extension": ".py",
   "mimetype": "text/x-python",
   "name": "python",
   "nbconvert_exporter": "python",
   "pygments_lexer": "ipython3",
   "version": "3.12.4"
  }
 },
 "nbformat": 4,
 "nbformat_minor": 2
}
